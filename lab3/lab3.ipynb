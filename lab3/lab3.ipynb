{
 "cells": [
  {
   "cell_type": "markdown",
   "metadata": {
    "collapsed": false
   },
   "source": [
    "# Лабораторная работа №3\n",
    "\n",
    "Выполнил студент группы 9381 Птичкин Сергей.\n",
    "\n",
    "##### Вариант №14\n",
    "\n",
    "### Цель работы:\n",
    "Практическое применение библиотеки символьных вычислений Python (SymPy) для решения задач дискретной математики и математической логики.\n",
    "\n",
    "### Задачи лабораторной работы\n",
    "1. Решить свой вариант диофантова уравнения.\n",
    "2. Имея открытую часть ключа RSA найти соответствующую закрытую часть и расшифровать кодированное слово.\n",
    "3. Записать в формате ДНФ и КНФ булеву функцию, заданную своим аналитическим выражением."
   ]
  },
  {
   "cell_type": "markdown",
   "metadata": {
    "collapsed": false
   },
   "source": [
    "### 1. Решение диофантова уравнения.\n",
    "\n",
    "5415x + 4769y = -152"
   ]
  },
  {
   "cell_type": "code",
   "execution_count": 3,
   "metadata": {
    "collapsed": false
   },
   "outputs": [
    {
     "data": {
      "text/plain": [
       "{(251*t_0 - 768, 872 - 285*t_0)}"
      ]
     },
     "execution_count": 3,
     "metadata": {
     },
     "output_type": "execute_result"
    }
   ],
   "source": [
    "from sympy.solvers.diophantine import diophantine\n",
    "from sympy import symbols\n",
    "\n",
    "x,y,z = symbols('x y z')\n",
    "\n",
    "diophantine(5415*x + 4769*y + 152)"
   ]
  },
  {
   "cell_type": "markdown",
   "metadata": {
    "collapsed": false
   },
   "source": [
    "Ответ: x = -768, y = 872"
   ]
  },
  {
   "cell_type": "markdown",
   "metadata": {
    "collapsed": false
   },
   "source": [
    "### 2. Имея открытую часть ключа RSA найти соответствующую закрытую часть и расшифровать кодированное слово.\n",
    "\n",
    "Русское слово из четырех букв закодировано при помощи алгоритма RSA открытым ключом (e = 7,m = 39).\n",
    "Шифрованное сообщение имеет вид (33; 18; 14; 11). Подберите закрытую часть ключа и прочитайте исходное слово.\n",
    "Буквам русского алфавита соответсвуют числа в диапазоне от 2 до 32 (исключены буквы “ё” и “ъ”)."
   ]
  },
  {
   "cell_type": "code",
   "execution_count": 5,
   "metadata": {
    "collapsed": false
   },
   "outputs": [
    {
     "name": "stdout",
     "output_type": "stream",
     "text": [
      "6 21 14 2 "
     ]
    }
   ],
   "source": [
    "from sympy.crypto.crypto import rsa_private_key, decipher_rsa\n",
    "\n",
    "code = [33, 18, 14, 11]\n",
    "key = rsa_private_key(39,7)\n",
    "for i in code:\n",
    "    print(decipher_rsa(i, key), end=\" \")"
   ]
  },
  {
   "cell_type": "markdown",
   "metadata": {
    "collapsed": false
   },
   "source": [
    "Ответ: Д У М А"
   ]
  },
  {
   "cell_type": "markdown",
   "metadata": {
    "collapsed": false
   },
   "source": [
    "### 3. Записать в формате ДНФ и КНФ булеву функцию, заданную своим аналитическим выражением.\n",
    "\n",
    "f(x, y, z) = ((zx) xor (yz)) ∨ ((x ∨ z) xor y)"
   ]
  },
  {
   "cell_type": "code",
   "execution_count": 7,
   "metadata": {
    "collapsed": false
   },
   "outputs": [
    {
     "name": "stdout",
     "output_type": "stream",
     "text": [
      "ДНФ:  (x & ~y) | (y & ~x) | (z & ~x)\n",
      "КНФ:  (x | y | z) & (~x | ~y)\n"
     ]
    }
   ],
   "source": [
    "from sympy.logic.boolalg import to_cnf, to_dnf\n",
    "\n",
    "print(\"ДНФ: \", to_dnf(((z&x)^(y&z))|((x|z)^y), simplify=True))\n",
    "print(\"КНФ: \", to_cnf(((z&x)^(y&z))|((x|z)^y), simplify=True))"
   ]
  },
  {
   "cell_type": "markdown",
   "metadata": {
    "collapsed": false
   },
   "source": [
    "### Вывод\n",
    "В процессе выполнения лабораторной работы были изучены функции библиотеки SymPy Языка Программирования Python для решения задач дискретной математики и математической логики."
   ]
  },
  {
   "cell_type": "code",
   "execution_count": 0,
   "metadata": {
    "collapsed": false
   },
   "outputs": [
   ],
   "source": [
   ]
  }
 ],
 "metadata": {
  "kernelspec": {
   "display_name": "Python 3 (system-wide)",
   "language": "python",
   "metadata": {
    "cocalc": {
     "description": "Python 3 programming language",
     "priority": 100,
     "url": "https://www.python.org/"
    }
   },
   "name": "python3",
   "resource_dir": "/ext/jupyter/kernels/python3"
  },
  "language_info": {
   "codemirror_mode": {
    "name": "ipython",
    "version": 3
   },
   "file_extension": ".py",
   "mimetype": "text/x-python",
   "name": "python",
   "nbconvert_exporter": "python",
   "pygments_lexer": "ipython3",
   "version": "3.8.10"
  }
 },
 "nbformat": 4,
 "nbformat_minor": 4
}